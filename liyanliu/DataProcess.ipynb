{
 "cells": [
  {
   "cell_type": "code",
   "execution_count": 1,
   "metadata": {},
   "outputs": [
    {
     "name": "stderr",
     "output_type": "stream",
     "text": [
      "Using TensorFlow backend.\n"
     ]
    }
   ],
   "source": [
    "from __future__ import print_function\n",
    "import os\n",
    "import cPickle as pickle\n",
    "import numpy as np\n",
    "import math\n",
    "\n",
    "from keras.optimizers import Adam\n",
    "from keras.callbacks import EarlyStopping, ModelCheckpoint\n",
    "from deepst.models.STResNet import stresnet\n",
    "from deepst.config import Config\n",
    "import deepst.metrics as metrics\n",
    "from deepst.datasets import TaxiHZ"
   ]
  },
  {
   "cell_type": "code",
   "execution_count": 2,
   "metadata": {},
   "outputs": [],
   "source": [
    "def build_model(external_dim):\n",
    "    c_conf = (len_closeness, nb_flow, map_height,\n",
    "              map_width) if len_closeness > 0 else None\n",
    "    p_conf = (len_period, nb_flow, map_height,\n",
    "              map_width) if len_period > 0 else None\n",
    "    t_conf = (len_trend, nb_flow, map_height,\n",
    "              map_width) if len_trend > 0 else None\n",
    "\n",
    "    model = stresnet(c_conf=c_conf, p_conf=p_conf, t_conf=t_conf,\n",
    "                     external_dim=external_dim, nb_residual_unit=nb_residual_unit)\n",
    "    adam = Adam(lr=lr)\n",
    "    model.compile(loss='mse', optimizer=adam, metrics=[metrics.rmse])\n",
    "    model.summary()\n",
    "    # from keras.utils.visualize_util import plot\n",
    "#     plot(model, to_file='model.png', show_shapes=True)\n",
    "    return model"
   ]
  },
  {
   "cell_type": "code",
   "execution_count": 3,
   "metadata": {
    "scrolled": true
   },
   "outputs": [
    {
     "name": "stdout",
     "output_type": "stream",
     "text": [
      "conf =  (3, 2, 50, 50)\n",
      "conv1.shape =  (?, 50, 50, 64)\n",
      "residual_output.shape =  (?, 50, 50, 64)\n",
      "conv2.shape =  (?, 50, 50, 2)\n",
      "external_dim: None\n",
      "__________________________________________________________________________________________________\n",
      "Layer (type)                    Output Shape         Param #     Connected to                     \n",
      "==================================================================================================\n",
      "input_1 (InputLayer)            (None, 50, 50, 6)    0                                            \n",
      "__________________________________________________________________________________________________\n",
      "conv2d_1 (Conv2D)               (None, 50, 50, 64)   3520        input_1[0][0]                    \n",
      "__________________________________________________________________________________________________\n",
      "activation_1 (Activation)       (None, 50, 50, 64)   0           conv2d_1[0][0]                   \n",
      "__________________________________________________________________________________________________\n",
      "conv2d_2 (Conv2D)               (None, 50, 50, 64)   36928       activation_1[0][0]               \n",
      "__________________________________________________________________________________________________\n",
      "activation_2 (Activation)       (None, 50, 50, 64)   0           conv2d_2[0][0]                   \n",
      "__________________________________________________________________________________________________\n",
      "conv2d_3 (Conv2D)               (None, 50, 50, 64)   36928       activation_2[0][0]               \n",
      "__________________________________________________________________________________________________\n",
      "add_1 (Add)                     (None, 50, 50, 64)   0           conv2d_1[0][0]                   \n",
      "                                                                 conv2d_3[0][0]                   \n",
      "__________________________________________________________________________________________________\n",
      "activation_3 (Activation)       (None, 50, 50, 64)   0           add_1[0][0]                      \n",
      "__________________________________________________________________________________________________\n",
      "conv2d_4 (Conv2D)               (None, 50, 50, 64)   36928       activation_3[0][0]               \n",
      "__________________________________________________________________________________________________\n",
      "activation_4 (Activation)       (None, 50, 50, 64)   0           conv2d_4[0][0]                   \n",
      "__________________________________________________________________________________________________\n",
      "conv2d_5 (Conv2D)               (None, 50, 50, 64)   36928       activation_4[0][0]               \n",
      "__________________________________________________________________________________________________\n",
      "add_2 (Add)                     (None, 50, 50, 64)   0           add_1[0][0]                      \n",
      "                                                                 conv2d_5[0][0]                   \n",
      "__________________________________________________________________________________________________\n",
      "activation_5 (Activation)       (None, 50, 50, 64)   0           add_2[0][0]                      \n",
      "__________________________________________________________________________________________________\n",
      "conv2d_6 (Conv2D)               (None, 50, 50, 64)   36928       activation_5[0][0]               \n",
      "__________________________________________________________________________________________________\n",
      "activation_6 (Activation)       (None, 50, 50, 64)   0           conv2d_6[0][0]                   \n",
      "__________________________________________________________________________________________________\n",
      "conv2d_7 (Conv2D)               (None, 50, 50, 64)   36928       activation_6[0][0]               \n",
      "__________________________________________________________________________________________________\n",
      "add_3 (Add)                     (None, 50, 50, 64)   0           add_2[0][0]                      \n",
      "                                                                 conv2d_7[0][0]                   \n",
      "__________________________________________________________________________________________________\n",
      "activation_7 (Activation)       (None, 50, 50, 64)   0           add_3[0][0]                      \n",
      "__________________________________________________________________________________________________\n",
      "conv2d_8 (Conv2D)               (None, 50, 50, 64)   36928       activation_7[0][0]               \n",
      "__________________________________________________________________________________________________\n",
      "activation_8 (Activation)       (None, 50, 50, 64)   0           conv2d_8[0][0]                   \n",
      "__________________________________________________________________________________________________\n",
      "conv2d_9 (Conv2D)               (None, 50, 50, 64)   36928       activation_8[0][0]               \n",
      "__________________________________________________________________________________________________\n",
      "add_4 (Add)                     (None, 50, 50, 64)   0           add_3[0][0]                      \n",
      "                                                                 conv2d_9[0][0]                   \n",
      "__________________________________________________________________________________________________\n",
      "activation_9 (Activation)       (None, 50, 50, 64)   0           add_4[0][0]                      \n",
      "__________________________________________________________________________________________________\n",
      "conv2d_10 (Conv2D)              (None, 50, 50, 2)    1154        activation_9[0][0]               \n",
      "__________________________________________________________________________________________________\n",
      "activation_10 (Activation)      (None, 50, 50, 2)    0           conv2d_10[0][0]                  \n",
      "==================================================================================================\n",
      "Total params: 300,098\n",
      "Trainable params: 300,098\n",
      "Non-trainable params: 0\n",
      "__________________________________________________________________________________________________\n"
     ]
    },
    {
     "name": "stderr",
     "output_type": "stream",
     "text": [
      "/home/rgbgroup/HardDrive/JiaxinLiu/virtualenvs/py2torch031/lib/python2.7/site-packages/DeepST-0.0.1-py2.7.egg/deepst/models/STResNet.py:76: UserWarning: Update your `Conv2D` call to the Keras 2 API: `Conv2D(padding=\"same\", filters=64, kernel_size=(3, 3))`\n",
      "  nb_filter=64, nb_row=3, nb_col=3, border_mode=\"same\")(input)\n",
      "/home/rgbgroup/HardDrive/JiaxinLiu/virtualenvs/py2torch031/lib/python2.7/site-packages/DeepST-0.0.1-py2.7.egg/deepst/models/STResNet.py:34: UserWarning: Update your `Conv2D` call to the Keras 2 API: `Conv2D(padding=\"same\", strides=(1, 1), filters=64, kernel_size=(3, 3))`\n",
      "  return Convolution2D(nb_filter=nb_filter, nb_row=nb_row, nb_col=nb_col, subsample=subsample, border_mode=\"same\")(activation)\n",
      "/home/rgbgroup/HardDrive/JiaxinLiu/virtualenvs/py2torch031/lib/python2.7/site-packages/DeepST-0.0.1-py2.7.egg/deepst/models/STResNet.py:85: UserWarning: Update your `Conv2D` call to the Keras 2 API: `Conv2D(padding=\"same\", filters=2, kernel_size=(3, 3))`\n",
      "  nb_filter=nb_flow, nb_row=3, nb_col=3, border_mode=\"same\")(activation)\n",
      "/home/rgbgroup/HardDrive/JiaxinLiu/virtualenvs/py2torch031/lib/python2.7/site-packages/DeepST-0.0.1-py2.7.egg/deepst/models/STResNet.py:116: UserWarning: Update your `Model` call to the Keras 2 API: `Model(outputs=Tensor(\"ac..., inputs=[<tf.Tenso...)`\n",
      "  model = Model(input=main_inputs, output=main_output)\n"
     ]
    }
   ],
   "source": [
    "nb_epoch = 500  # number of epoch at training stage\n",
    "nb_epoch_cont = 100  # number of epoch at training (cont) stage\n",
    "batch_size = 32  # batch size\n",
    "T = 24  # number of time intervals in one day\n",
    "\n",
    "lr = 0.00002  # learning rate\n",
    "len_closeness = 3  # length of closeness dependent sequence\n",
    "len_period = -3  # length of peroid dependent sequence\n",
    "len_trend = -3  # length of trend dependent sequence\n",
    "nb_residual_unit = 4   # number of residual units\n",
    "\n",
    "nb_flow = 2  # there are two types of flows: new-flow and end-flow\n",
    "days_test = 3\n",
    "len_test = T * days_test\n",
    "map_height, map_width = 50, 50  # grid size\n",
    "\n",
    "model = build_model(None)"
   ]
  },
  {
   "cell_type": "code",
   "execution_count": 4,
   "metadata": {
    "scrolled": true
   },
   "outputs": [
    {
     "name": "stdout",
     "output_type": "stream",
     "text": [
      "train_data shape:  (264, 2, 50, 50)\n",
      "min: 0.0 max: 49684.0\n",
      "XC shape:  (333, 6, 50, 50) XP shape:  (0,) XT shape:  (0,) Y shape: (333, 2, 50, 50)\n",
      "XC shape:  (333, 50, 50, 6)\n",
      "train shape: (261, 50, 50, 6) (261, 50, 50, 2) test shape:  (261, 50, 50, 6) (261, 50, 50, 2)\n",
      "(261, 50, 50, 6)\n",
      "\n",
      "(261, 50, 50, 6)\n",
      "\n"
     ]
    }
   ],
   "source": [
    "X_train, Y_train, X_test, Y_test, mmn, external_dim, timestamp_train, timestamp_test = TaxiHZ.load_data(filepath=\"./HZ14_M50x50_InOut.hdf5\",\n",
    "        T=T, nb_flow=nb_flow, len_closeness=len_closeness, len_period=len_period, len_trend=len_trend, len_test=len_test,\n",
    "        preprocess_name='preprocessing.pkl', meta_data=False)\n",
    "\n",
    "hyperparams_name = 'c{}.p{}.t{}.resunit{}.lr{}'.format(len_closeness, len_period, len_trend, nb_residual_unit, lr)\n",
    "fname_param = os.path.join('Model', '{}.best.h5'.format(hyperparams_name))\n",
    "early_stopping = EarlyStopping(monitor='val_rmse', patience=5, mode='min')\n",
    "model_checkpoint = ModelCheckpoint(fname_param, monitor='val_rmse', verbose=0, save_best_only=True, mode='min')"
   ]
  },
  {
   "cell_type": "code",
   "execution_count": 5,
   "metadata": {
    "scrolled": false
   },
   "outputs": [
    {
     "name": "stderr",
     "output_type": "stream",
     "text": [
      "/home/rgbgroup/HardDrive/JiaxinLiu/virtualenvs/py2torch031/lib/python2.7/site-packages/ipykernel_launcher.py:6: UserWarning: The `nb_epoch` argument in `fit` has been renamed `epochs`.\n",
      "  \n"
     ]
    },
    {
     "name": "stdout",
     "output_type": "stream",
     "text": [
      "Train on 234 samples, validate on 27 samples\n",
      "Epoch 1/500\n",
      "234/234 [==============================] - 3s 12ms/step - loss: 1.7205 - rmse: 1.3108 - val_loss: 1.4510 - val_rmse: 1.2046\n",
      "Epoch 2/500\n",
      "234/234 [==============================] - 0s 1ms/step - loss: 1.2319 - rmse: 1.1079 - val_loss: 0.9076 - val_rmse: 0.9527\n",
      "Epoch 3/500\n",
      "234/234 [==============================] - 0s 982us/step - loss: 0.7153 - rmse: 0.8428 - val_loss: 0.4759 - val_rmse: 0.6899\n",
      "Epoch 4/500\n",
      "234/234 [==============================] - 0s 967us/step - loss: 0.3681 - rmse: 0.6043 - val_loss: 0.2402 - val_rmse: 0.4901\n",
      "Epoch 5/500\n",
      "234/234 [==============================] - 0s 955us/step - loss: 0.1849 - rmse: 0.4282 - val_loss: 0.1222 - val_rmse: 0.3496\n",
      "Epoch 6/500\n",
      "234/234 [==============================] - 0s 942us/step - loss: 0.0996 - rmse: 0.3149 - val_loss: 0.0733 - val_rmse: 0.2708\n",
      "Epoch 7/500\n",
      "234/234 [==============================] - 0s 934us/step - loss: 0.0630 - rmse: 0.2507 - val_loss: 0.0499 - val_rmse: 0.2233\n",
      "Epoch 8/500\n",
      "234/234 [==============================] - 0s 936us/step - loss: 0.0447 - rmse: 0.2113 - val_loss: 0.0371 - val_rmse: 0.1926\n",
      "Epoch 9/500\n",
      "234/234 [==============================] - 0s 938us/step - loss: 0.0344 - rmse: 0.1853 - val_loss: 0.0292 - val_rmse: 0.1710\n",
      "Epoch 10/500\n",
      "234/234 [==============================] - 0s 945us/step - loss: 0.0277 - rmse: 0.1665 - val_loss: 0.0238 - val_rmse: 0.1542\n",
      "Epoch 11/500\n",
      "234/234 [==============================] - 0s 948us/step - loss: 0.0230 - rmse: 0.1516 - val_loss: 0.0197 - val_rmse: 0.1403\n",
      "Epoch 12/500\n",
      "234/234 [==============================] - 0s 937us/step - loss: 0.0193 - rmse: 0.1389 - val_loss: 0.0163 - val_rmse: 0.1276\n",
      "Epoch 13/500\n",
      "234/234 [==============================] - 0s 933us/step - loss: 0.0162 - rmse: 0.1273 - val_loss: 0.0135 - val_rmse: 0.1160\n",
      "Epoch 14/500\n",
      "234/234 [==============================] - 0s 936us/step - loss: 0.0137 - rmse: 0.1170 - val_loss: 0.0112 - val_rmse: 0.1057\n",
      "Epoch 15/500\n",
      "234/234 [==============================] - 0s 934us/step - loss: 0.0117 - rmse: 0.1080 - val_loss: 0.0093 - val_rmse: 0.0964\n",
      "Epoch 16/500\n",
      "234/234 [==============================] - 0s 934us/step - loss: 0.0099 - rmse: 0.0995 - val_loss: 0.0075 - val_rmse: 0.0867\n",
      "Epoch 17/500\n",
      "234/234 [==============================] - 0s 938us/step - loss: 0.0083 - rmse: 0.0912 - val_loss: 0.0060 - val_rmse: 0.0773\n",
      "Epoch 18/500\n",
      "234/234 [==============================] - 0s 931us/step - loss: 0.0070 - rmse: 0.0834 - val_loss: 0.0047 - val_rmse: 0.0688\n",
      "Epoch 19/500\n",
      "234/234 [==============================] - 0s 933us/step - loss: 0.0059 - rmse: 0.0767 - val_loss: 0.0038 - val_rmse: 0.0617\n",
      "Epoch 20/500\n",
      "234/234 [==============================] - 0s 938us/step - loss: 0.0052 - rmse: 0.0716 - val_loss: 0.0031 - val_rmse: 0.0560\n",
      "Epoch 21/500\n",
      "234/234 [==============================] - 0s 949us/step - loss: 0.0046 - rmse: 0.0676 - val_loss: 0.0027 - val_rmse: 0.0515\n",
      "Epoch 22/500\n",
      "234/234 [==============================] - 0s 940us/step - loss: 0.0042 - rmse: 0.0649 - val_loss: 0.0023 - val_rmse: 0.0478\n",
      "Epoch 23/500\n",
      "234/234 [==============================] - 0s 928us/step - loss: 0.0039 - rmse: 0.0622 - val_loss: 0.0020 - val_rmse: 0.0447\n",
      "Epoch 24/500\n",
      "234/234 [==============================] - 0s 948us/step - loss: 0.0037 - rmse: 0.0605 - val_loss: 0.0018 - val_rmse: 0.0419\n",
      "Epoch 25/500\n",
      "234/234 [==============================] - 0s 939us/step - loss: 0.0035 - rmse: 0.0586 - val_loss: 0.0016 - val_rmse: 0.0395\n",
      "Epoch 26/500\n",
      "234/234 [==============================] - 0s 944us/step - loss: 0.0033 - rmse: 0.0571 - val_loss: 0.0014 - val_rmse: 0.0374\n",
      "Epoch 27/500\n",
      "234/234 [==============================] - 0s 934us/step - loss: 0.0032 - rmse: 0.0561 - val_loss: 0.0013 - val_rmse: 0.0355\n",
      "Epoch 28/500\n",
      "234/234 [==============================] - 0s 939us/step - loss: 0.0031 - rmse: 0.0550 - val_loss: 0.0011 - val_rmse: 0.0338\n",
      "Epoch 29/500\n",
      "234/234 [==============================] - 0s 936us/step - loss: 0.0030 - rmse: 0.0540 - val_loss: 0.0011 - val_rmse: 0.0324\n",
      "Epoch 30/500\n",
      "234/234 [==============================] - 0s 937us/step - loss: 0.0029 - rmse: 0.0530 - val_loss: 9.6973e-04 - val_rmse: 0.0311\n",
      "Epoch 31/500\n",
      "234/234 [==============================] - 0s 942us/step - loss: 0.0029 - rmse: 0.0529 - val_loss: 9.0259e-04 - val_rmse: 0.0300\n",
      "Epoch 32/500\n",
      "234/234 [==============================] - 0s 935us/step - loss: 0.0028 - rmse: 0.0525 - val_loss: 8.4384e-04 - val_rmse: 0.0290\n",
      "Epoch 33/500\n",
      "234/234 [==============================] - 0s 943us/step - loss: 0.0028 - rmse: 0.0519 - val_loss: 7.9532e-04 - val_rmse: 0.0282\n",
      "Epoch 34/500\n",
      "234/234 [==============================] - 0s 950us/step - loss: 0.0027 - rmse: 0.0519 - val_loss: 7.4985e-04 - val_rmse: 0.0274\n",
      "Epoch 35/500\n",
      "234/234 [==============================] - 0s 936us/step - loss: 0.0027 - rmse: 0.0511 - val_loss: 7.1067e-04 - val_rmse: 0.0267\n",
      "Epoch 36/500\n",
      "234/234 [==============================] - 0s 936us/step - loss: 0.0026 - rmse: 0.0501 - val_loss: 6.7624e-04 - val_rmse: 0.0260\n",
      "Epoch 37/500\n",
      "234/234 [==============================] - 0s 937us/step - loss: 0.0026 - rmse: 0.0507 - val_loss: 6.4723e-04 - val_rmse: 0.0254\n",
      "Epoch 38/500\n",
      "234/234 [==============================] - 0s 933us/step - loss: 0.0026 - rmse: 0.0504 - val_loss: 6.2061e-04 - val_rmse: 0.0249\n",
      "Epoch 39/500\n",
      "234/234 [==============================] - 0s 934us/step - loss: 0.0026 - rmse: 0.0495 - val_loss: 5.9734e-04 - val_rmse: 0.0244\n",
      "Epoch 40/500\n",
      "234/234 [==============================] - 0s 940us/step - loss: 0.0025 - rmse: 0.0496 - val_loss: 5.7656e-04 - val_rmse: 0.0240\n",
      "Epoch 41/500\n",
      "234/234 [==============================] - 0s 938us/step - loss: 0.0025 - rmse: 0.0493 - val_loss: 5.5935e-04 - val_rmse: 0.0237\n",
      "Epoch 42/500\n",
      "234/234 [==============================] - 0s 935us/step - loss: 0.0025 - rmse: 0.0489 - val_loss: 5.5231e-04 - val_rmse: 0.0235\n",
      "Epoch 43/500\n",
      "234/234 [==============================] - 0s 941us/step - loss: 0.0025 - rmse: 0.0486 - val_loss: 5.4108e-04 - val_rmse: 0.0233\n",
      "Epoch 44/500\n",
      "234/234 [==============================] - 0s 935us/step - loss: 0.0024 - rmse: 0.0480 - val_loss: 5.3470e-04 - val_rmse: 0.0231\n",
      "Epoch 45/500\n",
      "234/234 [==============================] - 0s 935us/step - loss: 0.0024 - rmse: 0.0482 - val_loss: 5.3363e-04 - val_rmse: 0.0231\n",
      "Epoch 46/500\n",
      "234/234 [==============================] - 0s 954us/step - loss: 0.0024 - rmse: 0.0477 - val_loss: 5.2414e-04 - val_rmse: 0.0229\n",
      "Epoch 47/500\n",
      "234/234 [==============================] - 0s 934us/step - loss: 0.0023 - rmse: 0.0482 - val_loss: 5.2338e-04 - val_rmse: 0.0229\n",
      "Epoch 48/500\n",
      "234/234 [==============================] - 0s 945us/step - loss: 0.0023 - rmse: 0.0472 - val_loss: 5.3335e-04 - val_rmse: 0.0231\n",
      "Epoch 49/500\n",
      "234/234 [==============================] - 0s 940us/step - loss: 0.0022 - rmse: 0.0472 - val_loss: 5.6224e-04 - val_rmse: 0.0237\n",
      "Epoch 50/500\n",
      "234/234 [==============================] - 0s 946us/step - loss: 0.0022 - rmse: 0.0458 - val_loss: 6.0364e-04 - val_rmse: 0.0246\n",
      "Epoch 51/500\n",
      "234/234 [==============================] - 0s 935us/step - loss: 0.0021 - rmse: 0.0455 - val_loss: 5.8371e-04 - val_rmse: 0.0242\n",
      "Epoch 52/500\n",
      "234/234 [==============================] - 0s 940us/step - loss: 0.0020 - rmse: 0.0447 - val_loss: 5.5532e-04 - val_rmse: 0.0236\n"
     ]
    }
   ],
   "source": [
    "history = model.fit(X_train, Y_train,\n",
    "                        nb_epoch=nb_epoch,\n",
    "                        batch_size=batch_size,\n",
    "                        validation_split=0.1,\n",
    "                        callbacks=[early_stopping, model_checkpoint],\n",
    "                        verbose=1)"
   ]
  },
  {
   "cell_type": "code",
   "execution_count": 6,
   "metadata": {},
   "outputs": [],
   "source": [
    "model.save_weights(os.path.join('Model', '{}.h5'.format(hyperparams_name)), overwrite=True)"
   ]
  },
  {
   "cell_type": "code",
   "execution_count": 11,
   "metadata": {},
   "outputs": [],
   "source": [
    "import matplotlib.pyplot as plt\n",
    "from matplotlib.pyplot import figure\n",
    "import seaborn as sns\n",
    "import pandas as pd\n",
    "sns.set(rc={'figure.figsize':(40, 10)})"
   ]
  },
  {
   "cell_type": "code",
   "execution_count": 12,
   "metadata": {},
   "outputs": [],
   "source": [
    "result = model.predict(X_train)"
   ]
  },
  {
   "cell_type": "code",
   "execution_count": 13,
   "metadata": {
    "scrolled": true
   },
   "outputs": [
    {
     "data": {
      "image/png": "[encoded data removed]",
      "text/plain": [
       "<matplotlib.figure.Figure at 0x7f81a21ab750>"
      ]
     },
     "metadata": {},
     "output_type": "display_data"
    }
   ],
   "source": [
    "day = 0\n",
    "hour = 0\n",
    "todraw = day*24+hour\n",
    "for i in range(1):\n",
    "    plt.subplot(1, 4, 4*i+1)\n",
    "    sns.heatmap(data=pd.DataFrame(result[todraw,:,:,0]), square=True, cbar=False)\n",
    "    plt.title(\"predict inflow\")\n",
    "    plt.subplot(1, 4, 4*i+2)\n",
    "    sns.heatmap(data=pd.DataFrame(result[todraw,:,:,1]), square=True, cbar=False)\n",
    "    plt.title(\"predict outflow\")\n",
    "    plt.subplot(1, 4, 4*i+3)\n",
    "    sns.heatmap(data=pd.DataFrame(Y_train[todraw,:,:,0]), square=True, cbar=False)\n",
    "    plt.title(\"real inflow\")\n",
    "    plt.subplot(1, 4, 4*i+4)\n",
    "    sns.heatmap(data=pd.DataFrame(Y_train[todraw,:,:,1]), square=True, cbar=False)\n",
    "    plt.title(\"real outflow\")\n",
    "    plt.show()"
   ]
  },
  {
   "cell_type": "code",
   "execution_count": null,
   "metadata": {},
   "outputs": [],
   "source": [
    "type(X_train)"
   ]
  },
  {
   "cell_type": "code",
   "execution_count": null,
   "metadata": {},
   "outputs": [],
   "source": []
  }
 ],
 "metadata": {
  "kernelspec": {
   "display_name": "Python 2",
   "language": "python",
   "name": "python2"
  },
  "language_info": {
   "codemirror_mode": {
    "name": "ipython",
    "version": 2
   },
   "file_extension": ".py",
   "mimetype": "text/x-python",
   "name": "python",
   "nbconvert_exporter": "python",
   "pygments_lexer": "ipython2",
   "version": "2.7.15"
  }
 },
 "nbformat": 4,
 "nbformat_minor": 2
}
