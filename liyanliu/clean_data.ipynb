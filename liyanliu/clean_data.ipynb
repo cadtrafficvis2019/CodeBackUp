{
 "cells": [
  {
   "cell_type": "code",
   "execution_count": null,
   "metadata": {
    "collapsed": true
   },
   "outputs": [],
   "source": [
    "import numpy as np\n",
    "import pandas as pd\n",
    "import os\n",
    "import time\n",
    "import math\n",
    "\n",
    "currentpath = os.getcwd()\n",
    "path = currentpath + '/d13_w2/'\n",
    "\n",
    "for _, _, f in os.walk(\"d13_w2\"):\n",
    "    files = f\n",
    "print(files)\n"
   ]
  },
  {
   "cell_type": "code",
   "execution_count": 6,
   "metadata": {},
   "outputs": [
    {
     "ename": "NameError",
     "evalue": "name 'files' is not defined",
     "output_type": "error",
     "traceback": [
      "\u001b[1;31m---------------------------------------------------------------------------\u001b[0m",
      "\u001b[1;31mNameError\u001b[0m                                 Traceback (most recent call last)",
      "\u001b[1;32m<ipython-input-6-02285c08f885>\u001b[0m in \u001b[0;36m<module>\u001b[1;34m()\u001b[0m\n\u001b[0;32m     10\u001b[0m \u001b[1;32mfor\u001b[0m \u001b[0m_\u001b[0m\u001b[1;33m,\u001b[0m \u001b[0m_\u001b[0m\u001b[1;33m,\u001b[0m \u001b[0mf\u001b[0m \u001b[1;32min\u001b[0m \u001b[0mos\u001b[0m\u001b[1;33m.\u001b[0m\u001b[0mwalk\u001b[0m\u001b[1;33m(\u001b[0m\u001b[1;34m\"d13_w2\"\u001b[0m\u001b[1;33m)\u001b[0m\u001b[1;33m:\u001b[0m\u001b[1;33m\u001b[0m\u001b[0m\n\u001b[0;32m     11\u001b[0m     \u001b[0mfiles\u001b[0m \u001b[1;33m=\u001b[0m \u001b[0mf\u001b[0m\u001b[1;33m\u001b[0m\u001b[0m\n\u001b[1;32m---> 12\u001b[1;33m \u001b[0mprint\u001b[0m\u001b[1;33m(\u001b[0m\u001b[0mfiles\u001b[0m\u001b[1;33m)\u001b[0m\u001b[1;33m\u001b[0m\u001b[0m\n\u001b[0m",
      "\u001b[1;31mNameError\u001b[0m: name 'files' is not defined"
     ]
    }
   ],
   "source": [
    "\n",
    "# 为每个文件添加 title 行\n",
    "title = [\"DataTime\",\"UniqueID\",\"DeviceType\",\"Company\",\"DeviceID\",\"Flag\",\"FilterFlag\",\n",
    "          \"EvelationFlag\",\"Satellite\",\"Heading\",\"Speed\",\"EvalationUnit\",\"Evalation\",\n",
    "          \"Status\",\"Event\",\"Longitude\",\"Latitude\",\"BJ-Longitude\",\"BJ-Latitude\",\"TimeStamp\"]\n",
    "for i in range(len(files)):\n",
    "    data = pd.read_csv(path + files[i], header = None)\n",
    "    insertRow = pd.DataFrame([title])\n",
    "    data = insertRow.append(data, ignore_index = True)\n",
    "    data.to_csv(path+files[i],header = None, index = None)\n",
    "    print(path+files[i])\n",
    "print(files)"
   ]
  },
  {
   "cell_type": "code",
   "execution_count": 8,
   "metadata": {},
   "outputs": [
    {
     "name": "stdout",
     "output_type": "stream",
     "text": [
      "开始运行......\n",
      "files[n]: 00.csv data.shape: (802609, 20)\n",
      "df.shape: (711769, 7)\n",
      "运行完毕！耗时0.258828分钟。\n",
      "files[n]: 01.csv data.shape: (573860, 20)\n",
      "df.shape: (505726, 7)\n",
      "运行完毕！耗时0.441935分钟。\n",
      "files[n]: 02.csv data.shape: (655676, 20)\n",
      "df.shape: (577196, 7)\n",
      "运行完毕！耗时0.648097分钟。\n",
      "files[n]: 03.csv data.shape: (662417, 20)\n",
      "df.shape: (586275, 7)\n",
      "运行完毕！耗时0.854963分钟。\n",
      "files[n]: 04.csv data.shape: (623139, 20)\n",
      "df.shape: (555778, 7)\n",
      "运行完毕！耗时1.052145分钟。\n",
      "files[n]: 05.csv data.shape: (624550, 20)\n",
      "df.shape: (560791, 7)\n",
      "运行完毕！耗时1.251033分钟。\n",
      "files[n]: 06.csv data.shape: (633045, 20)\n",
      "df.shape: (566764, 7)\n",
      "运行完毕！耗时1.450810分钟。\n",
      "files[n]: 07.csv data.shape: (553219, 20)\n",
      "df.shape: (497925, 7)\n",
      "运行完毕！耗时1.621902分钟。\n",
      "files[n]: 08.csv data.shape: (724925, 20)\n",
      "df.shape: (642446, 7)\n",
      "运行完毕！耗时1.849068分钟。\n",
      "files[n]: 09.csv data.shape: (724315, 20)\n",
      "df.shape: (636836, 7)\n",
      "运行完毕！耗时2.071845分钟。\n",
      "files[n]: 10.csv data.shape: (674277, 20)\n",
      "df.shape: (592703, 7)\n",
      "运行完毕！耗时2.284849分钟。\n",
      "files[n]: 11.csv data.shape: (588725, 20)\n",
      "df.shape: (520585, 7)\n",
      "运行完毕！耗时2.467486分钟。\n",
      "files[n]: 12.csv data.shape: (756849, 20)\n",
      "df.shape: (666504, 7)\n",
      "运行完毕！耗时2.701499分钟。\n",
      "files[n]: 13.csv data.shape: (704531, 20)\n",
      "df.shape: (623776, 7)\n",
      "运行完毕！耗时2.926346分钟。\n",
      "files[n]: 14.csv data.shape: (766728, 20)\n",
      "df.shape: (675491, 7)\n",
      "运行完毕！耗时3.168819分钟。\n",
      "files[n]: 15.csv data.shape: (575758, 20)\n",
      "df.shape: (506681, 7)\n",
      "运行完毕！耗时3.350783分钟。\n",
      "files[n]: 16.csv data.shape: (656525, 20)\n",
      "df.shape: (577932, 7)\n",
      "运行完毕！耗时3.551690分钟。\n",
      "files[n]: 17.csv data.shape: (664806, 20)\n",
      "df.shape: (585567, 7)\n",
      "运行完毕！耗时3.755628分钟。\n",
      "files[n]: 18.csv data.shape: (732099, 20)\n",
      "df.shape: (643047, 7)\n",
      "运行完毕！耗时3.990259分钟。\n",
      "files[n]: 19.csv data.shape: (736784, 20)\n",
      "df.shape: (650309, 7)\n",
      "运行完毕！耗时4.227901分钟。\n",
      "files[n]: 20.csv data.shape: (582953, 20)\n",
      "df.shape: (514072, 7)\n",
      "运行完毕！耗时4.408498分钟。\n",
      "files[n]: 21.csv data.shape: (550214, 20)\n",
      "df.shape: (484838, 7)\n",
      "运行完毕！耗时4.582467分钟。\n",
      "files[n]: 22.csv data.shape: (600227, 20)\n",
      "df.shape: (530359, 7)\n",
      "运行完毕！耗时4.766747分钟。\n",
      "files[n]: 23.csv data.shape: (641595, 20)\n",
      "df.shape: (569635, 7)\n",
      "运行完毕！耗时4.966410分钟。\n"
     ]
    }
   ],
   "source": [
    "# 删除 long 和 lat 不在指定范围内的数据；\n",
    "# 删除 speed 不在指定范围内的数据\n",
    "# 删除任何含有NaN的行\n",
    "\n",
    "print(\"开始运行......\")\n",
    "now = time.clock()\n",
    "\n",
    "bottom=30.012\n",
    "up=30.4439     \n",
    "left=119.8691 \n",
    "right=120.461\n",
    "\n",
    "for n in range(len(files)):\n",
    "    data = pd.read_csv(path + files[n])\n",
    "    print(\"files[n]:\", files[n], \"data.shape:\", data.shape)\n",
    "    df = pd.DataFrame(data = data,columns = ['Longitude','Latitude','Speed','DeviceID','TimeStamp','Status','Heading'])\n",
    "    df['Longitude'] = data['Longitude']/10000000\n",
    "    df['Latitude'] =  data['Latitude']/10000000\n",
    "    df = df[(df['Longitude'] <= right) & (df['Longitude'] >= left)]\n",
    "    df = df[(df['Latitude'] <= up) & (df['Latitude'] >= bottom)]\n",
    "    df = df[(df['Speed']>=0) & (df['Speed']<=150)]\n",
    "    df = df.dropna(axis = 0, how = 'any') # 删除表中任何含有NaN的行\n",
    "    print(\"df.shape:\", df.shape)\n",
    "    df.to_csv(path + files[n][:2]+'new.csv',index = False, header = ['Longitude','Latitude','Speed','DeviceID','TimeStamp','Status','Heading'])\n",
    "    print(\"运行完毕！耗时%f分钟。\"%((time.clock()-now)/60))   "
   ]
  },
  {
   "cell_type": "code",
   "execution_count": null,
   "metadata": {
    "collapsed": true
   },
   "outputs": [],
   "source": []
  },
  {
   "cell_type": "code",
   "execution_count": null,
   "metadata": {
    "collapsed": true
   },
   "outputs": [],
   "source": []
  },
  {
   "cell_type": "code",
   "execution_count": null,
   "metadata": {
    "collapsed": true
   },
   "outputs": [],
   "source": []
  },
  {
   "cell_type": "code",
   "execution_count": null,
   "metadata": {
    "collapsed": true
   },
   "outputs": [],
   "source": []
  },
  {
   "cell_type": "code",
   "execution_count": null,
   "metadata": {
    "collapsed": true
   },
   "outputs": [],
   "source": []
  },
  {
   "cell_type": "code",
   "execution_count": null,
   "metadata": {
    "collapsed": true
   },
   "outputs": [],
   "source": []
  },
  {
   "cell_type": "code",
   "execution_count": null,
   "metadata": {
    "collapsed": true
   },
   "outputs": [],
   "source": []
  },
  {
   "cell_type": "code",
   "execution_count": null,
   "metadata": {
    "collapsed": true
   },
   "outputs": [],
   "source": []
  },
  {
   "cell_type": "code",
   "execution_count": null,
   "metadata": {
    "collapsed": true
   },
   "outputs": [],
   "source": []
  },
  {
   "cell_type": "code",
   "execution_count": null,
   "metadata": {
    "collapsed": true
   },
   "outputs": [],
   "source": []
  },
  {
   "cell_type": "code",
   "execution_count": null,
   "metadata": {
    "collapsed": true
   },
   "outputs": [],
   "source": []
  }
 ],
 "metadata": {
  "kernelspec": {
   "display_name": "Python 3",
   "language": "python",
   "name": "python3"
  },
  "language_info": {
   "codemirror_mode": {
    "name": "ipython",
    "version": 3
   },
   "file_extension": ".py",
   "mimetype": "text/x-python",
   "name": "python",
   "nbconvert_exporter": "python",
   "pygments_lexer": "ipython3",
   "version": "3.5.4"
  }
 },
 "nbformat": 4,
 "nbformat_minor": 2
}
